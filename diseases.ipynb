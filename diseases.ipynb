{
 "cells": [
  {
   "cell_type": "markdown",
   "metadata": {},
   "source": [
    "# Processing the DISEASES database of disease-gene associations\n",
    "\n",
    "+ [publication](http://dx.doi.org/10.1016/j.ymeth.2014.11.020)\n",
    "+ [website](http://diseases.jensenlab.org/Search)"
   ]
  },
  {
   "cell_type": "code",
   "execution_count": 1,
   "metadata": {
    "collapsed": false
   },
   "outputs": [],
   "source": [
    "# # Download DISEASES data files\n",
    "# base_url = 'http://download.jensenlab.org/'\n",
    "# filenames = [\n",
    "#     'human_disease_integrated_full.tsv',\n",
    "#     'human_disease_textmining_full.tsv',\n",
    "#     'human_disease_knowledge_full.tsv',\n",
    "#     'human_disease_experiments_full.tsv',\n",
    "# ]\n",
    "\n",
    "# for filename in filenames:\n",
    "#     ! wget --no-verbose --directory-prefix download/ {base_url}/{filename}\n",
    "#     ! gzip -f download/{filename}"
   ]
  },
  {
   "cell_type": "code",
   "execution_count": 2,
   "metadata": {
    "collapsed": false
   },
   "outputs": [],
   "source": [
    "# # Download STRING ensembl protein to entrez gene mapping\n",
    "# url = 'ftp://string-db.org/STRING/9.1/mapping_files/Entrez_mappings/entrez_gene_id.vs.string.v9.05.28122012.txt'\n",
    "# ! wget --no-verbose --timestamping --directory-prefix download/ {url}"
   ]
  },
  {
   "cell_type": "code",
   "execution_count": 3,
   "metadata": {
    "collapsed": true
   },
   "outputs": [],
   "source": [
    "import gzip\n",
    "\n",
    "import pandas\n",
    "import numpy\n",
    "import matplotlib.pyplot\n",
    "import seaborn\n",
    "\n",
    "%matplotlib inline"
   ]
  },
  {
   "cell_type": "code",
   "execution_count": 4,
   "metadata": {
    "collapsed": true
   },
   "outputs": [],
   "source": [
    "def meta_score(scores):\n",
    "    \"\"\"\n",
    "    Combines scores, which range form 0 to 5, into a single\n",
    "    integrated score. Learn more at http://thinklab.com/d/91#7\n",
    "    \"\"\"\n",
    "    scores = numpy.array(scores, dtype='float')\n",
    "    probs = scores / 5\n",
    "    prob = 1 - numpy.prod(1 - probs)\n",
    "    score = 5 * prob\n",
    "    return score"
   ]
  },
  {
   "cell_type": "markdown",
   "metadata": {},
   "source": [
    "## Read terminologies"
   ]
  },
  {
   "cell_type": "code",
   "execution_count": 5,
   "metadata": {
    "collapsed": false
   },
   "outputs": [
    {
     "data": {
      "text/html": [
       "<div>\n",
       "<table border=\"1\" class=\"dataframe\">\n",
       "  <thead>\n",
       "    <tr style=\"text-align: right;\">\n",
       "      <th></th>\n",
       "      <th>entrez_gene_id</th>\n",
       "      <th>gene_symbol</th>\n",
       "    </tr>\n",
       "  </thead>\n",
       "  <tbody>\n",
       "    <tr>\n",
       "      <th>0</th>\n",
       "      <td>1</td>\n",
       "      <td>A1BG</td>\n",
       "    </tr>\n",
       "    <tr>\n",
       "      <th>1</th>\n",
       "      <td>2</td>\n",
       "      <td>A2M</td>\n",
       "    </tr>\n",
       "  </tbody>\n",
       "</table>\n",
       "</div>"
      ],
      "text/plain": [
       "   entrez_gene_id gene_symbol\n",
       "0               1        A1BG\n",
       "1               2         A2M"
      ]
     },
     "execution_count": 5,
     "metadata": {},
     "output_type": "execute_result"
    }
   ],
   "source": [
    "# Read entrez genes\n",
    "url = 'https://raw.githubusercontent.com/dhimmel/entrez-gene/6e133f9ef8ce51a4c5387e58a6cc97564a66cec8/data/genes-human.tsv'\n",
    "entrez_df = pandas.read_table(url)    \n",
    "entrez_df = entrez_df[['GeneID', 'Symbol']].rename(columns={'GeneID': 'entrez_gene_id', 'Symbol': 'gene_symbol'})\n",
    "entrez_df.head(2)"
   ]
  },
  {
   "cell_type": "markdown",
   "metadata": {},
   "source": [
    "## Read mappings"
   ]
  },
  {
   "cell_type": "code",
   "execution_count": 6,
   "metadata": {
    "collapsed": true
   },
   "outputs": [],
   "source": [
    "# Read Ensembl protein to Entrez Gene mappings\n",
    "entrez_map_df = pandas.read_table('download/entrez_gene_id.vs.string.v9.05.28122012.txt')\n",
    "entrez_map_df.columns = 'entrez_gene_id', 'ensembl_protein_id'\n",
    "entrez_map_df.ensembl_protein_id = entrez_map_df.ensembl_protein_id.map(lambda x: x.split('.')[1])"
   ]
  },
  {
   "cell_type": "code",
   "execution_count": 7,
   "metadata": {
    "collapsed": false
   },
   "outputs": [
    {
     "data": {
      "text/html": [
       "<div>\n",
       "<table border=\"1\" class=\"dataframe\">\n",
       "  <thead>\n",
       "    <tr style=\"text-align: right;\">\n",
       "      <th></th>\n",
       "      <th>slim_id</th>\n",
       "      <th>slim_name</th>\n",
       "      <th>doid_id</th>\n",
       "      <th>min_distance</th>\n",
       "    </tr>\n",
       "  </thead>\n",
       "  <tbody>\n",
       "    <tr>\n",
       "      <th>0</th>\n",
       "      <td>DOID:0050156</td>\n",
       "      <td>idiopathic pulmonary fibrosis</td>\n",
       "      <td>DOID:0050156</td>\n",
       "      <td>0</td>\n",
       "    </tr>\n",
       "    <tr>\n",
       "      <th>1</th>\n",
       "      <td>DOID:0050425</td>\n",
       "      <td>restless legs syndrome</td>\n",
       "      <td>DOID:0050425</td>\n",
       "      <td>0</td>\n",
       "    </tr>\n",
       "  </tbody>\n",
       "</table>\n",
       "</div>"
      ],
      "text/plain": [
       "        slim_id                      slim_name       doid_id  min_distance\n",
       "0  DOID:0050156  idiopathic pulmonary fibrosis  DOID:0050156             0\n",
       "1  DOID:0050425         restless legs syndrome  DOID:0050425             0"
      ]
     },
     "execution_count": 7,
     "metadata": {},
     "output_type": "execute_result"
    }
   ],
   "source": [
    "# DO Slim nodes to subsumed nodes\n",
    "url = 'https://raw.githubusercontent.com/dhimmel/disease-ontology/72614ade9f1cc5a5317b8f6836e1e464b31d5587/data/slim-terms-prop.tsv'\n",
    "doslim_prop_df = pandas.read_table(url)\n",
    "doslim_prop_df = doslim_prop_df.rename(columns={'subsumed_id': 'doid_id'})\n",
    "doslim_prop_df = doslim_prop_df[['slim_id', 'slim_name', 'doid_id', 'min_distance']]\n",
    "doslim_prop_df.head(2)"
   ]
  },
  {
   "cell_type": "code",
   "execution_count": 8,
   "metadata": {
    "collapsed": false
   },
   "outputs": [
    {
     "data": {
      "text/html": [
       "<div>\n",
       "<table border=\"1\" class=\"dataframe\">\n",
       "  <thead>\n",
       "    <tr style=\"text-align: right;\">\n",
       "      <th></th>\n",
       "      <th>doid_id</th>\n",
       "      <th>doid_name</th>\n",
       "    </tr>\n",
       "  </thead>\n",
       "  <tbody>\n",
       "    <tr>\n",
       "      <th>0</th>\n",
       "      <td>DOID:9888</td>\n",
       "      <td>alternating esotropia</td>\n",
       "    </tr>\n",
       "    <tr>\n",
       "      <th>1</th>\n",
       "      <td>DOID:3389</td>\n",
       "      <td>Papillon-Lefevre disease</td>\n",
       "    </tr>\n",
       "  </tbody>\n",
       "</table>\n",
       "</div>"
      ],
      "text/plain": [
       "     doid_id                 doid_name\n",
       "0  DOID:9888     alternating esotropia\n",
       "1  DOID:3389  Papillon-Lefevre disease"
      ]
     },
     "execution_count": 8,
     "metadata": {},
     "output_type": "execute_result"
    }
   ],
   "source": [
    "# Disease Ontology terms and names\n",
    "url = 'https://raw.githubusercontent.com/dhimmel/disease-ontology/72614ade9f1cc5a5317b8f6836e1e464b31d5587/data/term-names.tsv'\n",
    "doid_df = pandas.read_table(url).query(\"type == 'name'\")\n",
    "doid_df = doid_df.drop('type', 1).rename(columns={'doid': 'doid_id', 'name': 'doid_name'})\n",
    "doid_df.head(2)"
   ]
  },
  {
   "cell_type": "markdown",
   "metadata": {},
   "source": [
    "## text mining channel"
   ]
  },
  {
   "cell_type": "code",
   "execution_count": 9,
   "metadata": {
    "collapsed": false
   },
   "outputs": [
    {
     "data": {
      "text/html": [
       "<div>\n",
       "<table border=\"1\" class=\"dataframe\">\n",
       "  <thead>\n",
       "    <tr style=\"text-align: right;\">\n",
       "      <th></th>\n",
       "      <th>ensembl_protein_id</th>\n",
       "      <th>gene_symbol</th>\n",
       "      <th>doid_id</th>\n",
       "      <th>doid_name</th>\n",
       "      <th>z-score</th>\n",
       "      <th>score</th>\n",
       "      <th>url</th>\n",
       "    </tr>\n",
       "  </thead>\n",
       "  <tbody>\n",
       "    <tr>\n",
       "      <th>0</th>\n",
       "      <td>5S_rRNA</td>\n",
       "      <td>5S_rRNA</td>\n",
       "      <td>DOID:0050290</td>\n",
       "      <td>Trichosporonosis</td>\n",
       "      <td>5.707</td>\n",
       "      <td>2.9</td>\n",
       "      <td>http://diseases.jensenlab.org/Entity?documents...</td>\n",
       "    </tr>\n",
       "    <tr>\n",
       "      <th>1</th>\n",
       "      <td>5S_rRNA</td>\n",
       "      <td>5S_rRNA</td>\n",
       "      <td>DOID:13382</td>\n",
       "      <td>Megaloblastic anemia</td>\n",
       "      <td>5.226</td>\n",
       "      <td>2.6</td>\n",
       "      <td>http://diseases.jensenlab.org/Entity?documents...</td>\n",
       "    </tr>\n",
       "  </tbody>\n",
       "</table>\n",
       "</div>"
      ],
      "text/plain": [
       "  ensembl_protein_id gene_symbol       doid_id             doid_name  z-score  \\\n",
       "0            5S_rRNA     5S_rRNA  DOID:0050290      Trichosporonosis    5.707   \n",
       "1            5S_rRNA     5S_rRNA    DOID:13382  Megaloblastic anemia    5.226   \n",
       "\n",
       "   score                                                url  \n",
       "0    2.9  http://diseases.jensenlab.org/Entity?documents...  \n",
       "1    2.6  http://diseases.jensenlab.org/Entity?documents...  "
      ]
     },
     "execution_count": 9,
     "metadata": {},
     "output_type": "execute_result"
    }
   ],
   "source": [
    "column_names = ['ensembl_protein_id', 'gene_symbol', 'doid_id', 'doid_name', 'z-score', 'score', 'url']\n",
    "text_df = pandas.read_table('download/human_disease_textmining_full.tsv.gz', names=column_names)\n",
    "text_df.head(2)"
   ]
  },
  {
   "cell_type": "code",
   "execution_count": 10,
   "metadata": {
    "collapsed": false
   },
   "outputs": [
    {
     "data": {
      "text/html": [
       "<div>\n",
       "<table border=\"1\" class=\"dataframe\">\n",
       "  <thead>\n",
       "    <tr style=\"text-align: right;\">\n",
       "      <th></th>\n",
       "      <th>entrez_gene_id</th>\n",
       "      <th>doid_id</th>\n",
       "      <th>score</th>\n",
       "    </tr>\n",
       "  </thead>\n",
       "  <tbody>\n",
       "    <tr>\n",
       "      <th>0</th>\n",
       "      <td>1</td>\n",
       "      <td>DOID:0014667</td>\n",
       "      <td>0.8</td>\n",
       "    </tr>\n",
       "    <tr>\n",
       "      <th>1</th>\n",
       "      <td>1</td>\n",
       "      <td>DOID:0050117</td>\n",
       "      <td>0.9</td>\n",
       "    </tr>\n",
       "  </tbody>\n",
       "</table>\n",
       "</div>"
      ],
      "text/plain": [
       "   entrez_gene_id       doid_id  score\n",
       "0               1  DOID:0014667    0.8\n",
       "1               1  DOID:0050117    0.9"
      ]
     },
     "execution_count": 10,
     "metadata": {},
     "output_type": "execute_result"
    }
   ],
   "source": [
    "text_df = entrez_map_df.merge(text_df)\n",
    "text_df = text_df.groupby(['entrez_gene_id', 'doid_id'])['score'].mean().reset_index()\n",
    "text_df.head(2)"
   ]
  },
  {
   "cell_type": "markdown",
   "metadata": {},
   "source": [
    "## experiment channel"
   ]
  },
  {
   "cell_type": "code",
   "execution_count": 11,
   "metadata": {
    "collapsed": false
   },
   "outputs": [
    {
     "data": {
      "text/html": [
       "<div>\n",
       "<table border=\"1\" class=\"dataframe\">\n",
       "  <thead>\n",
       "    <tr style=\"text-align: right;\">\n",
       "      <th></th>\n",
       "      <th>ensembl_protein_id</th>\n",
       "      <th>gene_symbol</th>\n",
       "      <th>doid_id</th>\n",
       "      <th>doid_name</th>\n",
       "      <th>source</th>\n",
       "      <th>evidence</th>\n",
       "      <th>score</th>\n",
       "    </tr>\n",
       "  </thead>\n",
       "  <tbody>\n",
       "    <tr>\n",
       "      <th>0</th>\n",
       "      <td>ENSP00000000412</td>\n",
       "      <td>M6PR</td>\n",
       "      <td>DOID:1289</td>\n",
       "      <td>Neurodegenerative disease</td>\n",
       "      <td>DistiLD</td>\n",
       "      <td>p-value = 5e-14</td>\n",
       "      <td>2</td>\n",
       "    </tr>\n",
       "    <tr>\n",
       "      <th>1</th>\n",
       "      <td>ENSP00000000412</td>\n",
       "      <td>M6PR</td>\n",
       "      <td>DOID:2377</td>\n",
       "      <td>Multiple sclerosis</td>\n",
       "      <td>DistiLD</td>\n",
       "      <td>p-value = 5e-14</td>\n",
       "      <td>2</td>\n",
       "    </tr>\n",
       "  </tbody>\n",
       "</table>\n",
       "</div>"
      ],
      "text/plain": [
       "  ensembl_protein_id gene_symbol    doid_id                  doid_name  \\\n",
       "0    ENSP00000000412        M6PR  DOID:1289  Neurodegenerative disease   \n",
       "1    ENSP00000000412        M6PR  DOID:2377         Multiple sclerosis   \n",
       "\n",
       "    source         evidence  score  \n",
       "0  DistiLD  p-value = 5e-14      2  \n",
       "1  DistiLD  p-value = 5e-14      2  "
      ]
     },
     "execution_count": 11,
     "metadata": {},
     "output_type": "execute_result"
    }
   ],
   "source": [
    "column_names = ['ensembl_protein_id', 'gene_symbol', 'doid_id', 'doid_name', 'source', 'evidence', 'score']\n",
    "experiment_df = pandas.read_table('download/human_disease_experiments_full.tsv.gz', names=column_names)\n",
    "experiment_df.head(2)"
   ]
  },
  {
   "cell_type": "code",
   "execution_count": 12,
   "metadata": {
    "collapsed": true
   },
   "outputs": [],
   "source": [
    "cosmic_df = experiment_df.query(\"source=='COSMIC'\")\n",
    "cosmic_df = entrez_map_df.merge(cosmic_df)\n",
    "cosmic_df = cosmic_df.groupby(['entrez_gene_id', 'doid_id'])['score'].mean().reset_index()\n",
    "\n",
    "distild_df = experiment_df.query(\"source=='DistiLD'\")\n",
    "distild_df = entrez_map_df.merge(distild_df)\n",
    "distild_df = distild_df.groupby(['entrez_gene_id', 'doid_id'])['score'].mean().reset_index()"
   ]
  },
  {
   "cell_type": "markdown",
   "metadata": {},
   "source": [
    "## knowledge channel"
   ]
  },
  {
   "cell_type": "code",
   "execution_count": 13,
   "metadata": {
    "collapsed": false
   },
   "outputs": [
    {
     "data": {
      "text/html": [
       "<div>\n",
       "<table border=\"1\" class=\"dataframe\">\n",
       "  <thead>\n",
       "    <tr style=\"text-align: right;\">\n",
       "      <th></th>\n",
       "      <th>ensembl_protein_id</th>\n",
       "      <th>gene_symbol</th>\n",
       "      <th>doid_id</th>\n",
       "      <th>doid_name</th>\n",
       "      <th>source</th>\n",
       "      <th>evidence</th>\n",
       "      <th>score</th>\n",
       "    </tr>\n",
       "  </thead>\n",
       "  <tbody>\n",
       "    <tr>\n",
       "      <th>0</th>\n",
       "      <td>ENSP00000001146</td>\n",
       "      <td>CYP26B1</td>\n",
       "      <td>DOID:0080001</td>\n",
       "      <td>Bone disease</td>\n",
       "      <td>UniProtKB-KW</td>\n",
       "      <td>CURATED</td>\n",
       "      <td>4</td>\n",
       "    </tr>\n",
       "    <tr>\n",
       "      <th>1</th>\n",
       "      <td>ENSP00000001146</td>\n",
       "      <td>CYP26B1</td>\n",
       "      <td>DOID:0080006</td>\n",
       "      <td>Bone development disease</td>\n",
       "      <td>UniProtKB-KW</td>\n",
       "      <td>CURATED</td>\n",
       "      <td>4</td>\n",
       "    </tr>\n",
       "  </tbody>\n",
       "</table>\n",
       "</div>"
      ],
      "text/plain": [
       "  ensembl_protein_id gene_symbol       doid_id                 doid_name  \\\n",
       "0    ENSP00000001146     CYP26B1  DOID:0080001              Bone disease   \n",
       "1    ENSP00000001146     CYP26B1  DOID:0080006  Bone development disease   \n",
       "\n",
       "         source evidence  score  \n",
       "0  UniProtKB-KW  CURATED      4  \n",
       "1  UniProtKB-KW  CURATED      4  "
      ]
     },
     "execution_count": 13,
     "metadata": {},
     "output_type": "execute_result"
    }
   ],
   "source": [
    "column_names = ['ensembl_protein_id', 'gene_symbol', 'doid_id', 'doid_name', 'source', 'evidence', 'score']\n",
    "knowledge_df = pandas.read_table('download/human_disease_knowledge_full.tsv.gz', names=column_names)\n",
    "knowledge_df.head(2)"
   ]
  },
  {
   "cell_type": "code",
   "execution_count": 14,
   "metadata": {
    "collapsed": false
   },
   "outputs": [
    {
     "data": {
      "text/html": [
       "<div>\n",
       "<table border=\"1\" class=\"dataframe\">\n",
       "  <thead>\n",
       "    <tr style=\"text-align: right;\">\n",
       "      <th></th>\n",
       "      <th>ensembl_protein_id</th>\n",
       "      <th>doid_id</th>\n",
       "      <th>score</th>\n",
       "    </tr>\n",
       "  </thead>\n",
       "  <tbody>\n",
       "    <tr>\n",
       "      <th>0</th>\n",
       "      <td>ENSP00000001146</td>\n",
       "      <td>DOID:0080001</td>\n",
       "      <td>4</td>\n",
       "    </tr>\n",
       "    <tr>\n",
       "      <th>1</th>\n",
       "      <td>ENSP00000001146</td>\n",
       "      <td>DOID:0080006</td>\n",
       "      <td>4</td>\n",
       "    </tr>\n",
       "  </tbody>\n",
       "</table>\n",
       "</div>"
      ],
      "text/plain": [
       "  ensembl_protein_id       doid_id  score\n",
       "0    ENSP00000001146  DOID:0080001      4\n",
       "1    ENSP00000001146  DOID:0080006      4"
      ]
     },
     "execution_count": 14,
     "metadata": {},
     "output_type": "execute_result"
    }
   ],
   "source": [
    "# Combine UniProtKB and GHR evidence\n",
    "knowledge_df = knowledge_df.groupby(['ensembl_protein_id', 'doid_id'])['score'].agg(meta_score).reset_index()\n",
    "knowledge_df.head(2)"
   ]
  },
  {
   "cell_type": "code",
   "execution_count": 15,
   "metadata": {
    "collapsed": false
   },
   "outputs": [
    {
     "data": {
      "text/html": [
       "<div>\n",
       "<table border=\"1\" class=\"dataframe\">\n",
       "  <thead>\n",
       "    <tr style=\"text-align: right;\">\n",
       "      <th></th>\n",
       "      <th>entrez_gene_id</th>\n",
       "      <th>doid_id</th>\n",
       "      <th>score</th>\n",
       "    </tr>\n",
       "  </thead>\n",
       "  <tbody>\n",
       "    <tr>\n",
       "      <th>0</th>\n",
       "      <td>16</td>\n",
       "      <td>DOID:10595</td>\n",
       "      <td>5</td>\n",
       "    </tr>\n",
       "    <tr>\n",
       "      <th>1</th>\n",
       "      <td>16</td>\n",
       "      <td>DOID:1289</td>\n",
       "      <td>4</td>\n",
       "    </tr>\n",
       "  </tbody>\n",
       "</table>\n",
       "</div>"
      ],
      "text/plain": [
       "   entrez_gene_id     doid_id  score\n",
       "0              16  DOID:10595      5\n",
       "1              16   DOID:1289      4"
      ]
     },
     "execution_count": 15,
     "metadata": {},
     "output_type": "execute_result"
    }
   ],
   "source": [
    "# Convert to entrez genes\n",
    "knowledge_df = entrez_map_df.merge(knowledge_df)\n",
    "knowledge_df = knowledge_df.groupby(['entrez_gene_id', 'doid_id'])['score'].mean().reset_index()\n",
    "knowledge_df.head(2)"
   ]
  },
  {
   "cell_type": "markdown",
   "metadata": {},
   "source": [
    "## integrated channel"
   ]
  },
  {
   "cell_type": "code",
   "execution_count": 16,
   "metadata": {
    "collapsed": false
   },
   "outputs": [
    {
     "data": {
      "text/html": [
       "<div>\n",
       "<table border=\"1\" class=\"dataframe\">\n",
       "  <thead>\n",
       "    <tr style=\"text-align: right;\">\n",
       "      <th></th>\n",
       "      <th>ensembl_protein_id</th>\n",
       "      <th>gene_symbol</th>\n",
       "      <th>doid_id</th>\n",
       "      <th>doid_name</th>\n",
       "      <th>score</th>\n",
       "    </tr>\n",
       "  </thead>\n",
       "  <tbody>\n",
       "    <tr>\n",
       "      <th>0</th>\n",
       "      <td>5S_rRNA</td>\n",
       "      <td>5S_rRNA</td>\n",
       "      <td>DOID:0050290</td>\n",
       "      <td>Trichosporonosis</td>\n",
       "      <td>2.9</td>\n",
       "    </tr>\n",
       "    <tr>\n",
       "      <th>1</th>\n",
       "      <td>5S_rRNA</td>\n",
       "      <td>5S_rRNA</td>\n",
       "      <td>DOID:13382</td>\n",
       "      <td>Megaloblastic anemia</td>\n",
       "      <td>2.6</td>\n",
       "    </tr>\n",
       "  </tbody>\n",
       "</table>\n",
       "</div>"
      ],
      "text/plain": [
       "  ensembl_protein_id gene_symbol       doid_id             doid_name  score\n",
       "0            5S_rRNA     5S_rRNA  DOID:0050290      Trichosporonosis    2.9\n",
       "1            5S_rRNA     5S_rRNA    DOID:13382  Megaloblastic anemia    2.6"
      ]
     },
     "execution_count": 16,
     "metadata": {},
     "output_type": "execute_result"
    }
   ],
   "source": [
    "# Read integrated dataset\n",
    "column_names = ['ensembl_protein_id', 'gene_symbol', 'doid_id', 'doid_name', 'score']\n",
    "integrated_df = pandas.read_table('download/human_disease_integrated_full.tsv.gz', names=column_names)\n",
    "integrated_df.head(2)"
   ]
  },
  {
   "cell_type": "code",
   "execution_count": 17,
   "metadata": {
    "collapsed": false
   },
   "outputs": [
    {
     "data": {
      "text/html": [
       "<div>\n",
       "<table border=\"1\" class=\"dataframe\">\n",
       "  <thead>\n",
       "    <tr style=\"text-align: right;\">\n",
       "      <th></th>\n",
       "      <th>entrez_gene_id</th>\n",
       "      <th>doid_id</th>\n",
       "      <th>score</th>\n",
       "    </tr>\n",
       "  </thead>\n",
       "  <tbody>\n",
       "    <tr>\n",
       "      <th>0</th>\n",
       "      <td>1</td>\n",
       "      <td>DOID:0014667</td>\n",
       "      <td>0.8</td>\n",
       "    </tr>\n",
       "    <tr>\n",
       "      <th>1</th>\n",
       "      <td>1</td>\n",
       "      <td>DOID:0050117</td>\n",
       "      <td>0.9</td>\n",
       "    </tr>\n",
       "  </tbody>\n",
       "</table>\n",
       "</div>"
      ],
      "text/plain": [
       "   entrez_gene_id       doid_id  score\n",
       "0               1  DOID:0014667    0.8\n",
       "1               1  DOID:0050117    0.9"
      ]
     },
     "execution_count": 17,
     "metadata": {},
     "output_type": "execute_result"
    }
   ],
   "source": [
    "integrated_df = entrez_map_df.merge(integrated_df)\n",
    "integrated_df = integrated_df.groupby(['entrez_gene_id', 'doid_id'])['score'].mean().reset_index()\n",
    "integrated_df.head(2)"
   ]
  },
  {
   "cell_type": "markdown",
   "metadata": {},
   "source": [
    "## compute integrated score excluding DistiLD"
   ]
  },
  {
   "cell_type": "code",
   "execution_count": 18,
   "metadata": {
    "collapsed": false
   },
   "outputs": [
    {
     "data": {
      "text/html": [
       "<div>\n",
       "<table border=\"1\" class=\"dataframe\">\n",
       "  <thead>\n",
       "    <tr style=\"text-align: right;\">\n",
       "      <th></th>\n",
       "      <th>entrez_gene_id</th>\n",
       "      <th>doid_id</th>\n",
       "      <th>score</th>\n",
       "    </tr>\n",
       "  </thead>\n",
       "  <tbody>\n",
       "    <tr>\n",
       "      <th>0</th>\n",
       "      <td>1</td>\n",
       "      <td>DOID:0014667</td>\n",
       "      <td>0.8</td>\n",
       "    </tr>\n",
       "    <tr>\n",
       "      <th>1</th>\n",
       "      <td>1</td>\n",
       "      <td>DOID:0050117</td>\n",
       "      <td>0.9</td>\n",
       "    </tr>\n",
       "  </tbody>\n",
       "</table>\n",
       "</div>"
      ],
      "text/plain": [
       "   entrez_gene_id       doid_id  score\n",
       "0               1  DOID:0014667    0.8\n",
       "1               1  DOID:0050117    0.9"
      ]
     },
     "execution_count": 18,
     "metadata": {},
     "output_type": "execute_result"
    }
   ],
   "source": [
    "integrated_no_distild_df = pandas.concat([text_df, knowledge_df, cosmic_df])\n",
    "integrated_no_distild_df.groupby(['entrez_gene_id', 'doid_id'])['score'].agg(meta_score).reset_index()\n",
    "integrated_no_distild_df.head(2)"
   ]
  },
  {
   "cell_type": "markdown",
   "metadata": {},
   "source": [
    "## merge all channels"
   ]
  },
  {
   "cell_type": "code",
   "execution_count": 19,
   "metadata": {
    "collapsed": true
   },
   "outputs": [],
   "source": [
    "renames = [\n",
    "    (text_df, 'text'),\n",
    "    (knowledge_df, 'knowledge'),\n",
    "    (cosmic_df, 'cosmic'),\n",
    "    (distild_df, 'distild'),\n",
    "    (integrated_no_distild_df, 'integrated_no_distild'),\n",
    "    (integrated_df, 'integrated'),\n",
    "]\n",
    "\n",
    "# rename score columns to be unique\n",
    "for df, name in renames:\n",
    "    df.rename(columns={'score': 'score_{}'.format(name)}, inplace=True)\n",
    "\n",
    "# merge all dataframes\n",
    "dfs = [df for df, name in renames]\n",
    "master_df = dfs.pop(0)\n",
    "for df in dfs:\n",
    "    master_df = master_df.merge(df, how='outer')\n",
    "\n",
    "# convert Entrez Gene IDs to ints (pandas gotcha)\n",
    "master_df.entrez_gene_id = master_df.entrez_gene_id.astype(int)"
   ]
  },
  {
   "cell_type": "code",
   "execution_count": 20,
   "metadata": {
    "collapsed": false
   },
   "outputs": [
    {
     "data": {
      "text/html": [
       "<div>\n",
       "<table border=\"1\" class=\"dataframe\">\n",
       "  <thead>\n",
       "    <tr style=\"text-align: right;\">\n",
       "      <th></th>\n",
       "      <th>doid_id</th>\n",
       "      <th>doid_name</th>\n",
       "      <th>entrez_gene_id</th>\n",
       "      <th>gene_symbol</th>\n",
       "      <th>score_text</th>\n",
       "      <th>score_knowledge</th>\n",
       "      <th>score_cosmic</th>\n",
       "      <th>score_distild</th>\n",
       "      <th>score_integrated_no_distild</th>\n",
       "      <th>score_integrated</th>\n",
       "    </tr>\n",
       "  </thead>\n",
       "  <tbody>\n",
       "    <tr>\n",
       "      <th>0</th>\n",
       "      <td>DOID:9888</td>\n",
       "      <td>alternating esotropia</td>\n",
       "      <td>1123</td>\n",
       "      <td>CHN1</td>\n",
       "      <td>1.9</td>\n",
       "      <td>NaN</td>\n",
       "      <td>NaN</td>\n",
       "      <td>NaN</td>\n",
       "      <td>1.9</td>\n",
       "      <td>1.9</td>\n",
       "    </tr>\n",
       "    <tr>\n",
       "      <th>1</th>\n",
       "      <td>DOID:3389</td>\n",
       "      <td>Papillon-Lefevre disease</td>\n",
       "      <td>1075</td>\n",
       "      <td>CTSC</td>\n",
       "      <td>2.8</td>\n",
       "      <td>NaN</td>\n",
       "      <td>NaN</td>\n",
       "      <td>NaN</td>\n",
       "      <td>2.8</td>\n",
       "      <td>2.8</td>\n",
       "    </tr>\n",
       "  </tbody>\n",
       "</table>\n",
       "</div>"
      ],
      "text/plain": [
       "     doid_id                 doid_name  entrez_gene_id gene_symbol  \\\n",
       "0  DOID:9888     alternating esotropia            1123        CHN1   \n",
       "1  DOID:3389  Papillon-Lefevre disease            1075        CTSC   \n",
       "\n",
       "   score_text  score_knowledge  score_cosmic  score_distild  \\\n",
       "0         1.9              NaN           NaN            NaN   \n",
       "1         2.8              NaN           NaN            NaN   \n",
       "\n",
       "   score_integrated_no_distild  score_integrated  \n",
       "0                          1.9               1.9  \n",
       "1                          2.8               2.8  "
      ]
     },
     "execution_count": 20,
     "metadata": {},
     "output_type": "execute_result"
    }
   ],
   "source": [
    "# add gene symbols and disease names\n",
    "master_df = doid_df.merge(entrez_df.merge(master_df))\n",
    "master_df.head(2)"
   ]
  },
  {
   "cell_type": "code",
   "execution_count": 21,
   "metadata": {
    "collapsed": true
   },
   "outputs": [],
   "source": [
    "# save a gzipped tsv\n",
    "with gzip.open('data/merged.tsv.gz', 'wt') as write_file:\n",
    "    master_df.to_csv(write_file, sep='\\t', index=False, float_format='%.2g')"
   ]
  },
  {
   "cell_type": "markdown",
   "metadata": {},
   "source": [
    "## score visualization"
   ]
  },
  {
   "cell_type": "code",
   "execution_count": 27,
   "metadata": {
    "collapsed": false
   },
   "outputs": [
    {
     "data": {
      "image/png": "[encoded data removed]",
      "text/plain": [
       "<matplotlib.figure.Figure at 0x7f11b236f358>"
      ]
     },
     "metadata": {},
     "output_type": "display_data"
    }
   ],
   "source": [
    "seaborn.set_style('white')\n",
    "viz_df = master_df.iloc[:, 4:].fillna(0)\n",
    "viz_df.columns = viz_df.columns.map(lambda x: x.split('_', 1)[1])\n",
    "grid = seaborn.PairGrid(viz_df, size=2)\n",
    "grid.map_diag(seaborn.distplot, kde=False, hist_kws={'log': True})\n",
    "grid.map_lower(matplotlib.pyplot.hexbin, bins='log', cmap='Blues', gridsize=30, linewidths=0)\n",
    "grid.set(xlim=(0, 5), ylim=(0, 5))\n",
    "seaborn.despine(top=True, right=True, left=True, bottom=True)\n",
    "grid.savefig('figure/channel-histograms.png', dpi=300)"
   ]
  },
  {
   "cell_type": "code",
   "execution_count": 23,
   "metadata": {
    "collapsed": false
   },
   "outputs": [
    {
     "data": {
      "text/plain": [
       "698414"
      ]
     },
     "execution_count": 23,
     "metadata": {},
     "output_type": "execute_result"
    }
   ],
   "source": [
    "len(master_df)"
   ]
  },
  {
   "cell_type": "code",
   "execution_count": 24,
   "metadata": {
    "collapsed": false
   },
   "outputs": [
    {
     "data": {
      "text/plain": [
       "22594"
      ]
     },
     "execution_count": 24,
     "metadata": {},
     "output_type": "execute_result"
    }
   ],
   "source": [
    "sum(master_df.score_integrated_no_distild >= 3)"
   ]
  },
  {
   "cell_type": "markdown",
   "metadata": {},
   "source": [
    "## DO Slim conversion"
   ]
  },
  {
   "cell_type": "code",
   "execution_count": 25,
   "metadata": {
    "collapsed": false
   },
   "outputs": [
    {
     "data": {
      "text/html": [
       "<div>\n",
       "<table border=\"1\" class=\"dataframe\">\n",
       "  <thead>\n",
       "    <tr style=\"text-align: right;\">\n",
       "      <th></th>\n",
       "      <th>doid_id</th>\n",
       "      <th>doid_name</th>\n",
       "      <th>entrez_gene_id</th>\n",
       "      <th>gene_symbol</th>\n",
       "      <th>score_text</th>\n",
       "      <th>score_knowledge</th>\n",
       "      <th>score_cosmic</th>\n",
       "      <th>score_distild</th>\n",
       "      <th>score_integrated_no_distild</th>\n",
       "      <th>score_integrated</th>\n",
       "    </tr>\n",
       "  </thead>\n",
       "  <tbody>\n",
       "    <tr>\n",
       "      <th>0</th>\n",
       "      <td>DOID:13223</td>\n",
       "      <td>uterine fibroid</td>\n",
       "      <td>60</td>\n",
       "      <td>ACTB</td>\n",
       "      <td>0.8</td>\n",
       "      <td>NaN</td>\n",
       "      <td>NaN</td>\n",
       "      <td>NaN</td>\n",
       "      <td>0.8</td>\n",
       "      <td>0.8</td>\n",
       "    </tr>\n",
       "    <tr>\n",
       "      <th>1</th>\n",
       "      <td>DOID:13223</td>\n",
       "      <td>uterine fibroid</td>\n",
       "      <td>71</td>\n",
       "      <td>ACTG1</td>\n",
       "      <td>0.8</td>\n",
       "      <td>NaN</td>\n",
       "      <td>NaN</td>\n",
       "      <td>NaN</td>\n",
       "      <td>0.8</td>\n",
       "      <td>0.8</td>\n",
       "    </tr>\n",
       "  </tbody>\n",
       "</table>\n",
       "</div>"
      ],
      "text/plain": [
       "      doid_id        doid_name  entrez_gene_id gene_symbol  score_text  \\\n",
       "0  DOID:13223  uterine fibroid              60        ACTB         0.8   \n",
       "1  DOID:13223  uterine fibroid              71       ACTG1         0.8   \n",
       "\n",
       "   score_knowledge  score_cosmic  score_distild  score_integrated_no_distild  \\\n",
       "0              NaN           NaN            NaN                          0.8   \n",
       "1              NaN           NaN            NaN                          0.8   \n",
       "\n",
       "   score_integrated  \n",
       "0               0.8  \n",
       "1               0.8  "
      ]
     },
     "execution_count": 25,
     "metadata": {},
     "output_type": "execute_result"
    }
   ],
   "source": [
    "master_slim_df = doslim_prop_df.merge(master_df)\n",
    "master_slim_df = master_slim_df.groupby(['slim_id', 'entrez_gene_id'])[['score_' + x[1] for x in renames]].max().reset_index()\n",
    "master_slim_df = master_slim_df.rename(columns={'slim_id': 'doid_id'})\n",
    "master_slim_df = doid_df.merge(entrez_df.merge(master_slim_df))\n",
    "master_slim_df.head(2)"
   ]
  },
  {
   "cell_type": "code",
   "execution_count": 26,
   "metadata": {
    "collapsed": false
   },
   "outputs": [],
   "source": [
    "master_slim_df.to_csv('data/merged-slim.tsv', sep='\\t', index=False, float_format='%.2g')"
   ]
  }
 ],
 "metadata": {
  "kernelspec": {
   "display_name": "Python 3",
   "language": "python",
   "name": "python3"
  },
  "language_info": {
   "codemirror_mode": {
    "name": "ipython",
    "version": 3
   },
   "file_extension": ".py",
   "mimetype": "text/x-python",
   "name": "python",
   "nbconvert_exporter": "python",
   "pygments_lexer": "ipython3",
   "version": "3.4.3"
  }
 },
 "nbformat": 4,
 "nbformat_minor": 0
}
